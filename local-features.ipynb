{
  "cells": [
    {
      "cell_type": "code",
      "execution_count": 3,
      "metadata": {},
      "outputs": [],
      "source": [
        "import cv2 as cv\n",
        "import numpy as np\n",
        "import matplotlib.pyplot as plt\n",
        "import urllib.request\n",
        "import os"
      ]
    },
    {
      "cell_type": "code",
      "execution_count": 4,
      "metadata": {},
      "outputs": [],
      "source": [
        "def orb_bf_match_and_find(template_img, test_img, template_img_filename, test_img_filename, min_matches): \n",
        "    # Scale train_img to be the same size as query_img\n",
        "    test_img = cv.resize(test_img, (template_img.shape[1], template_img.shape[0]))\n",
        "    # Create an ORB object\n",
        "    orb = cv.ORB_create()\n",
        "    \n",
        "    features1, des1 = orb.detectAndCompute(template_img, None)\n",
        "    features2, des2 = orb.detectAndCompute(test_img, None)\n",
        "\n",
        "    # Create Brute-Force matcher object\n",
        "    bf = cv.BFMatcher(cv.NORM_HAMMING)\n",
        "    matches = bf.knnMatch(des1, des2, k = 2)\n",
        "    \n",
        "    # Nearest neighbour ratio test to find good matches\n",
        "    good = []    \n",
        "    good_without_lists = []    \n",
        "    matches = [match for match in matches if len(match) == 2] \n",
        "    for m, n in matches:\n",
        "        if m.distance < 0.8 * n.distance:\n",
        "            good.append([m])\n",
        "            good_without_lists.append(m)\n",
        "         \n",
        "    if len(good) >= min_matches:\n",
        "        # Draw a polygon around the recognized object\n",
        "        src_pts = np.float32([features1[m.queryIdx].pt for m in good_without_lists])\n",
        "        dst_pts = np.float32([features2[m.trainIdx].pt for m in good_without_lists])\n",
        "        \n",
        "        # Get the transformation matrix\n",
        "        M, _ = cv.findHomography(src_pts, dst_pts, cv.RANSAC)\n",
        "        pts1_transformed = cv.perspectiveTransform(np.array([src_pts]), M)\n",
        "        pts1_transformed = pts1_transformed.reshape(-1, 2)\n",
        "\n",
        "        # Compute the bounding box size\n",
        "        width = 1500\n",
        "        height = 1500\n",
        "\n",
        "        # Compute the bounding box coordinates\n",
        "        x_min = np.min(pts1_transformed[:, 0])\n",
        "        y_min = np.min(pts1_transformed[:, 1])\n",
        "        x_max = np.max(pts1_transformed[:, 0])\n",
        "        y_max = np.max(pts1_transformed[:, 1])\n",
        "\n",
        "        # Compute the center of the bounding box\n",
        "        center_x = (x_min + x_max) / 2\n",
        "        center_y = (y_min + y_max) / 2\n",
        "\n",
        "        # Compute the upper left corner of the bounding box\n",
        "        x = center_x - width / 2\n",
        "        y = center_y - height / 2\n",
        "\n",
        "        # Draw the bounding box\n",
        "        cv.rectangle(test_img, (int(x), int(y)), (int(x + width), int(y + height)), (0, 255, 0), 2)\n",
        "    print('Total matches found: {}'.format(len(good)))  \n",
        "    result_img = cv.drawMatchesKnn(template_img, features1, test_img, features2, good, None, flags = 4)\n",
        "    cv.putText(result_img, 'Total matches found: {}'.format(len(good)), (200, 200), cv.FONT_HERSHEY_SIMPLEX, 10, (0, 0, 255), 2, cv.LINE_AA)\n",
        "    cv.imwrite('output/orb/bf/{}_and_{}.jpg'.format(template_img_filename, test_img_filename), result_img)\n",
        "\n",
        "def orb_bf_match_with_images_folder(path, min_matches):\n",
        "    template = cv.imread(path)\n",
        "    template_filename = os.path.splitext(os.path.basename(path))[0]\n",
        "    for filename in os.listdir('output/orb/bf'):\n",
        "        if filename.startswith(template_filename):\n",
        "            os.remove('output/orb/bf/' + filename)\n",
        "    for filename in os.listdir('images'):\n",
        "        test_img = cv.imread('images/' + filename)\n",
        "        test_img_filename = os.path.splitext(filename)[0]\n",
        "        orb_bf_match_and_find(template, test_img, template_filename, test_img_filename, min_matches)"
      ]
    },
    {
      "cell_type": "code",
      "execution_count": 5,
      "metadata": {},
      "outputs": [
        {
          "name": "stdout",
          "output_type": "stream",
          "text": [
            "Total matches found: 21\n",
            "Total matches found: 16\n",
            "Total matches found: 12\n",
            "Total matches found: 29\n",
            "Total matches found: 49\n",
            "Total matches found: 17\n",
            "Total matches found: 8\n",
            "Total matches found: 3\n",
            "Total matches found: 8\n",
            "Total matches found: 8\n",
            "Total matches found: 8\n",
            "Total matches found: 6\n",
            "Total matches found: 22\n",
            "Total matches found: 6\n",
            "Total matches found: 14\n",
            "Total matches found: 9\n",
            "Total matches found: 6\n",
            "Total matches found: 14\n",
            "Total matches found: 12\n",
            "Total matches found: 15\n",
            "Total matches found: 25\n",
            "Total matches found: 33\n",
            "Total matches found: 24\n",
            "Total matches found: 5\n",
            "Total matches found: 3\n",
            "Total matches found: 9\n",
            "Total matches found: 5\n",
            "Total matches found: 2\n",
            "Total matches found: 13\n",
            "Total matches found: 9\n",
            "Total matches found: 3\n",
            "Total matches found: 6\n",
            "Total matches found: 20\n",
            "Total matches found: 6\n"
          ]
        }
      ],
      "source": [
        "# Running matching with remote control template\n",
        "orb_bf_match_with_images_folder('templates/remote-1.jpg', 10)\n",
        "orb_bf_match_with_images_folder('templates/remote-2.jpg', 10)"
      ]
    },
    {
      "cell_type": "code",
      "execution_count": 6,
      "metadata": {},
      "outputs": [
        {
          "name": "stdout",
          "output_type": "stream",
          "text": [
            "Total matches found: 11\n",
            "Total matches found: 40\n",
            "Total matches found: 20\n",
            "Total matches found: 11\n",
            "Total matches found: 12\n",
            "Total matches found: 27\n",
            "Total matches found: 18\n",
            "Total matches found: 31\n",
            "Total matches found: 23\n",
            "Total matches found: 17\n",
            "Total matches found: 13\n",
            "Total matches found: 15\n",
            "Total matches found: 15\n",
            "Total matches found: 20\n",
            "Total matches found: 17\n",
            "Total matches found: 35\n",
            "Total matches found: 14\n",
            "Total matches found: 16\n",
            "Total matches found: 25\n",
            "Total matches found: 26\n",
            "Total matches found: 12\n",
            "Total matches found: 11\n",
            "Total matches found: 31\n",
            "Total matches found: 23\n",
            "Total matches found: 18\n",
            "Total matches found: 20\n",
            "Total matches found: 14\n",
            "Total matches found: 13\n",
            "Total matches found: 17\n",
            "Total matches found: 17\n",
            "Total matches found: 12\n",
            "Total matches found: 8\n",
            "Total matches found: 26\n",
            "Total matches found: 7\n"
          ]
        }
      ],
      "source": [
        "# Running matching with earphone template\n",
        "orb_bf_match_with_images_folder('templates/earphone-1.jpg', 25)\n",
        "orb_bf_match_with_images_folder('templates/earphone-2.jpg', 25)"
      ]
    },
    {
      "cell_type": "code",
      "execution_count": 7,
      "metadata": {},
      "outputs": [
        {
          "name": "stdout",
          "output_type": "stream",
          "text": [
            "Total matches found: 8\n",
            "Total matches found: 7\n",
            "Total matches found: 7\n",
            "Total matches found: 6\n",
            "Total matches found: 8\n",
            "Total matches found: 15\n",
            "Total matches found: 7\n",
            "Total matches found: 9\n",
            "Total matches found: 11\n",
            "Total matches found: 4\n",
            "Total matches found: 8\n",
            "Total matches found: 14\n",
            "Total matches found: 10\n",
            "Total matches found: 10\n",
            "Total matches found: 4\n",
            "Total matches found: 15\n",
            "Total matches found: 11\n",
            "Total matches found: 6\n",
            "Total matches found: 4\n",
            "Total matches found: 4\n",
            "Total matches found: 9\n",
            "Total matches found: 12\n",
            "Total matches found: 6\n",
            "Total matches found: 7\n",
            "Total matches found: 5\n",
            "Total matches found: 6\n",
            "Total matches found: 4\n",
            "Total matches found: 2\n",
            "Total matches found: 10\n",
            "Total matches found: 7\n",
            "Total matches found: 6\n",
            "Total matches found: 12\n",
            "Total matches found: 8\n",
            "Total matches found: 6\n"
          ]
        }
      ],
      "source": [
        "# Running matching with elephant template\n",
        "orb_bf_match_with_images_folder('templates/elephant-1.jpg', 8)\n",
        "orb_bf_match_with_images_folder('templates/elephant-2.jpg', 8)"
      ]
    },
    {
      "cell_type": "code",
      "execution_count": 8,
      "metadata": {},
      "outputs": [
        {
          "name": "stdout",
          "output_type": "stream",
          "text": [
            "Total matches found: 12\n",
            "Total matches found: 9\n",
            "Total matches found: 13\n",
            "Total matches found: 7\n",
            "Total matches found: 6\n",
            "Total matches found: 8\n",
            "Total matches found: 7\n",
            "Total matches found: 10\n",
            "Total matches found: 11\n",
            "Total matches found: 13\n",
            "Total matches found: 4\n",
            "Total matches found: 72\n",
            "Total matches found: 21\n",
            "Total matches found: 115\n",
            "Total matches found: 12\n",
            "Total matches found: 12\n",
            "Total matches found: 30\n"
          ]
        }
      ],
      "source": [
        "orb_bf_match_with_images_folder('templates/pokemon-1.jpg', 20)"
      ]
    },
    {
      "cell_type": "code",
      "execution_count": 4,
      "metadata": {},
      "outputs": [],
      "source": [
        "def brief_bf_match_and_find(template_img, test_img, template_img_filename, test_img_filename, thres, min_matches): \n",
        "    # Scale train_img to be the same size as query_img\n",
        "    test_img = cv.resize(test_img, (template_img.shape[1], template_img.shape[0]))\n",
        "    \n",
        "    detector = cv.FastFeatureDetector_create(threshold=thres, nonmaxSuppression=True)\n",
        "    brief = cv.xfeatures2d.BriefDescriptorExtractor_create()\n",
        "    \n",
        "    features1 = detector.detect(template_img, None)\n",
        "    features1, des1 = brief.compute(template_img, features1)\n",
        "    features2 = detector.detect(test_img, None)\n",
        "    features2, des2 = brief.compute(test_img, features2)\n",
        "\n",
        "    # Create Brute-Force matcher object\n",
        "    bf = cv.BFMatcher(cv.NORM_HAMMING)\n",
        "    matches = bf.knnMatch(des1, des2, k=2)\n",
        "    \n",
        "    # Nearest neighbour ratio test to find good matches\n",
        "    good = []    \n",
        "    good_without_lists = []    \n",
        "    matches = [match for match in matches if len(match) == 2] \n",
        "    for m, n in matches:\n",
        "        if m.distance < 0.8 * n.distance:\n",
        "            good.append([m])\n",
        "            good_without_lists.append(m)\n",
        "         \n",
        "    if len(good) >= min_matches:\n",
        "        # Draw a polygon around the recognized object\n",
        "        src_pts = np.float32([features1[m.queryIdx].pt for m in good_without_lists])\n",
        "        dst_pts = np.float32([features2[m.trainIdx].pt for m in good_without_lists])\n",
        "        \n",
        "        # Get the transformation matrix\n",
        "        M, _ = cv.findHomography(src_pts, dst_pts, cv.RANSAC)\n",
        "        pts1_transformed = cv.perspectiveTransform(np.array([src_pts]), M)\n",
        "        pts1_transformed = pts1_transformed.reshape(-1, 2)\n",
        "\n",
        "        # Compute the bounding box size\n",
        "        width = 1500\n",
        "        height = 1500\n",
        "\n",
        "        # Compute the bounding box coordinates\n",
        "        x_min = np.min(pts1_transformed[:, 0])\n",
        "        y_min = np.min(pts1_transformed[:, 1])\n",
        "        x_max = np.max(pts1_transformed[:, 0])\n",
        "        y_max = np.max(pts1_transformed[:, 1])\n",
        "\n",
        "        # Compute the center of the bounding box\n",
        "        center_x = (x_min + x_max) / 2\n",
        "        center_y = (y_min + y_max) / 2\n",
        "\n",
        "        # Compute the upper left corner of the bounding box\n",
        "        x = center_x - width / 2\n",
        "        y = center_y - height / 2\n",
        "\n",
        "        # Draw the bounding box\n",
        "        cv.rectangle(test_img, (int(x), int(y)), (int(x + width), int(y + height)), (0, 255, 0), 2)\n",
        "    print('Total matches found: {}'.format(len(good)))  \n",
        "    result_img = cv.drawMatchesKnn(template_img, features1, test_img, features2, good, None, flags = 4)\n",
        "    cv.putText(result_img, 'Total matches found: {}'.format(len(good)), (200, 200), cv.FONT_HERSHEY_SIMPLEX, 10, (0, 0, 255), 2, cv.LINE_AA)\n",
        "    cv.imwrite('output/brief/bf/{}_and_{}.jpg'.format(template_img_filename, test_img_filename), result_img)\n",
        "\n",
        "def brief_bf_match_with_images_folder(path, threshold, min_matches):\n",
        "    template = cv.imread(path)\n",
        "    template_filename = os.path.splitext(os.path.basename(path))[0]\n",
        "    for filename in os.listdir('output/brief/bf'):\n",
        "        if filename.startswith(template_filename):\n",
        "            os.remove('output/brief/bf/' + filename)\n",
        "    for filename in os.listdir('images'):\n",
        "        test_img = cv.imread('images/' + filename)\n",
        "        test_img_filename = os.path.splitext(filename)[0]\n",
        "        brief_bf_match_and_find(template, test_img, template_filename, test_img_filename, threshold, min_matches)"
      ]
    },
    {
      "cell_type": "code",
      "execution_count": 5,
      "metadata": {},
      "outputs": [
        {
          "name": "stdout",
          "output_type": "stream",
          "text": [
            "Total matches found: 69\n",
            "Total matches found: 33\n",
            "Total matches found: 32\n",
            "Total matches found: 52\n",
            "Total matches found: 55\n",
            "Total matches found: 37\n",
            "Total matches found: 58\n",
            "Total matches found: 222\n",
            "Total matches found: 0\n",
            "Total matches found: 209\n",
            "Total matches found: 0\n",
            "Total matches found: 124\n",
            "Total matches found: 201\n",
            "Total matches found: 111\n",
            "Total matches found: 84\n",
            "Total matches found: 43\n",
            "Total matches found: 58\n",
            "Total matches found: 472\n",
            "Total matches found: 429\n",
            "Total matches found: 356\n",
            "Total matches found: 334\n",
            "Total matches found: 362\n",
            "Total matches found: 305\n",
            "Total matches found: 512\n",
            "Total matches found: 1690\n",
            "Total matches found: 0\n",
            "Total matches found: 1650\n",
            "Total matches found: 0\n",
            "Total matches found: 829\n",
            "Total matches found: 905\n",
            "Total matches found: 883\n",
            "Total matches found: 1081\n",
            "Total matches found: 327\n",
            "Total matches found: 723\n"
          ]
        }
      ],
      "source": [
        "# Running matching with remote control template\n",
        "brief_bf_match_with_images_folder('templates/remote-1.jpg', 50, 10)\n",
        "brief_bf_match_with_images_folder('templates/remote-2.jpg', 50, 10)"
      ]
    },
    {
      "cell_type": "code",
      "execution_count": 6,
      "metadata": {},
      "outputs": [
        {
          "name": "stdout",
          "output_type": "stream",
          "text": [
            "Total matches found: 13\n",
            "Total matches found: 20\n",
            "Total matches found: 19\n",
            "Total matches found: 19\n",
            "Total matches found: 11\n",
            "Total matches found: 11\n"
          ]
        }
      ],
      "source": [
        "# Running matching with earphone template\n",
        "brief_bf_match_with_images_folder('templates/earphone-1.jpg', 50, 25)\n",
        "brief_bf_match_with_images_folder('templates/earphone-2.jpg', 50, 25)"
      ]
    },
    {
      "cell_type": "code",
      "execution_count": null,
      "metadata": {},
      "outputs": [
        {
          "name": "stdout",
          "output_type": "stream",
          "text": [
            "Total matches found: 18\n",
            "Total matches found: 15\n",
            "Total matches found: 18\n",
            "Total matches found: 17\n",
            "Total matches found: 22\n",
            "Total matches found: 12\n",
            "Total matches found: 10\n",
            "Total matches found: 26\n",
            "Total matches found: 15\n",
            "Total matches found: 27\n",
            "Total matches found: 27\n",
            "Total matches found: 43\n",
            "Total matches found: 22\n",
            "Total matches found: 32\n",
            "Total matches found: 21\n",
            "Total matches found: 16\n",
            "Total matches found: 26\n",
            "Total matches found: 58\n",
            "Total matches found: 70\n",
            "Total matches found: 54\n",
            "Total matches found: 78\n",
            "Total matches found: 53\n",
            "Total matches found: 55\n",
            "Total matches found: 81\n",
            "Total matches found: 111\n",
            "Total matches found: 113\n",
            "Total matches found: 70\n",
            "Total matches found: 97\n",
            "Total matches found: 154\n",
            "Total matches found: 69\n",
            "Total matches found: 94\n",
            "Total matches found: 69\n",
            "Total matches found: 63\n",
            "Total matches found: 234\n"
          ]
        }
      ],
      "source": [
        "# Running matching with elephant template\n",
        "brief_bf_match_with_images_folder('templates/elephant-1.jpg', 50, 8)\n",
        "brief_bf_match_with_images_folder('templates/elephant-2.jpg', 60, 8)"
      ]
    },
    {
      "cell_type": "code",
      "execution_count": null,
      "metadata": {},
      "outputs": [
        {
          "name": "stdout",
          "output_type": "stream",
          "text": [
            "Total matches found: 12\n",
            "Total matches found: 18\n",
            "Total matches found: 14\n",
            "Total matches found: 8\n",
            "Total matches found: 9\n",
            "Total matches found: 8\n",
            "Total matches found: 13\n",
            "Total matches found: 14\n",
            "Total matches found: 17\n",
            "Total matches found: 17\n",
            "Total matches found: 23\n",
            "Total matches found: 16\n",
            "Total matches found: 15\n",
            "Total matches found: 16\n",
            "Total matches found: 16\n",
            "Total matches found: 8\n",
            "Total matches found: 21\n"
          ]
        }
      ],
      "source": [
        "brief_bf_match_with_images_folder('templates/pokemon-1.jpg', 25, 15)"
      ]
    }
  ],
  "metadata": {
    "kernelspec": {
      "display_name": "Python 3",
      "language": "python",
      "name": "python3"
    },
    "language_info": {
      "codemirror_mode": {
        "name": "ipython",
        "version": 3
      },
      "file_extension": ".py",
      "mimetype": "text/x-python",
      "name": "python",
      "nbconvert_exporter": "python",
      "pygments_lexer": "ipython3",
      "version": "3.10.7"
    },
    "orig_nbformat": 4,
    "vscode": {
      "interpreter": {
        "hash": "369f2c481f4da34e4445cda3fffd2e751bd1c4d706f27375911949ba6bb62e1c"
      }
    }
  },
  "nbformat": 4,
  "nbformat_minor": 2
}
